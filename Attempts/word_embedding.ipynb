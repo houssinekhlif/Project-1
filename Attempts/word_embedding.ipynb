{
 "cells": [
  {
   "cell_type": "code",
   "execution_count": 1,
   "id": "2f2f5277",
   "metadata": {},
   "outputs": [],
   "source": [
    "from gensim.models import KeyedVectors\n",
    "import numpy as np"
   ]
  },
  {
   "cell_type": "code",
   "execution_count": 2,
   "id": "012698b2",
   "metadata": {},
   "outputs": [],
   "source": [
    "# Path to the pre-trained Word2Vec model\n",
    "model_file = r\"C:\\Users\\21650\\Downloads\\GoogleNews-vectors-negative300.bin\\GoogleNews-vectors-negative300.bin\""
   ]
  },
  {
   "cell_type": "code",
   "execution_count": 3,
   "id": "16c67128",
   "metadata": {},
   "outputs": [],
   "source": [
    "# Load the pre-trained Word2Vec model in binary format\n",
    "model = KeyedVectors.load_word2vec_format(model_file, binary=True)\n"
   ]
  },
  {
   "cell_type": "code",
   "execution_count": null,
   "id": "7c006890",
   "metadata": {},
   "outputs": [],
   "source": [
    "# Extract word vectors for specific words from the model\n",
    "EV_KING = model['king']\n",
    "EV_QUEEN = model['queen']\n",
    "EV_MAN = model['man']\n",
    "EV_WOMEN = model['women']\n",
    "EV_PEA = model['pea']\n",
    "EV_MOON = model['moon']"
   ]
  },
  {
   "cell_type": "code",
   "execution_count": 6,
   "id": "b81e08a5",
   "metadata": {},
   "outputs": [],
   "source": [
    "def cosine_similarity(vector1, vector2):\n",
    "    dot_product = np.dot(vector1, vector2) # Calculate dot product of the two vectors\n",
    "    norm_vector1 = np.linalg.norm(vector1) # Calculate the norm (magnitude) of the first vector\n",
    "    norm_vector2 = np.linalg.norm(vector2) # Calculate the norm (magnitude) of the second vector\n",
    "    cosine_sim = dot_product / (norm_vector1 * norm_vector2) # Calculate cosine similarity\n",
    "    return cosine_sim\n"
   ]
  },
  {
   "cell_type": "code",
   "execution_count": 7,
   "id": "d2d51d9e",
   "metadata": {},
   "outputs": [
    {
     "name": "stdout",
     "output_type": "stream",
     "text": [
      "0.6510956\n"
     ]
    }
   ],
   "source": [
    "# Calculate and print cosine similarities between various word vectors\n",
    "# Similarity between 'king' and 'queen'\n",
    "print(cosine_similarity(EV_KING, EV_QUEEN)) # Output: 0.6510957"
   ]
  },
  {
   "cell_type": "code",
   "execution_count": 8,
   "id": "e2257add",
   "metadata": {},
   "outputs": [
    {
     "name": "stdout",
     "output_type": "stream",
     "text": [
      "0.27339873\n"
     ]
    }
   ],
   "source": [
    "# Similarity between 'pea' and 'queen'\n",
    "print(cosine_similarity(EV_PEA, EV_QUEEN)) # Output: 0.27339873"
   ]
  },
  {
   "cell_type": "code",
   "execution_count": 9,
   "id": "7970031b",
   "metadata": {},
   "outputs": [
    {
     "name": "stdout",
     "output_type": "stream",
     "text": [
      "0.53549385\n"
     ]
    }
   ],
   "source": [
    "# Create a new vector by performing vector arithmetic: king - man + women\n",
    "EV_EXAMP = EV_KING - EV_MAN + EV_WOMEN\n",
    "# Similarity between 'queen' and the new vector (king - man + women)\n",
    "print(cosine_similarity(EV_QUEEN, EV_EXAMP))# Output: 0.53549385"
   ]
  },
  {
   "cell_type": "code",
   "execution_count": 10,
   "id": "76145b84",
   "metadata": {},
   "outputs": [
    {
     "name": "stdout",
     "output_type": "stream",
     "text": [
      "0.13289538\n"
     ]
    }
   ],
   "source": [
    "# Similarity between 'moon' and 'king'\n",
    "print(cosine_similarity(EV_MOON, EV_KING)) # Output: 0.13289538"
   ]
  },
  {
   "cell_type": "code",
   "execution_count": 94,
   "id": "e0cc4e04",
   "metadata": {},
   "outputs": [
    {
     "name": "stdout",
     "output_type": "stream",
     "text": [
      "-0.009212981\n"
     ]
    }
   ],
   "source": [
    "# Calculate and print cosine similarities for additional word pairs\n",
    "print(cosine_similarity(model['happiness'], model['vector']))"
   ]
  }
 ],
 "metadata": {
  "kernelspec": {
   "display_name": "Python 3",
   "language": "python",
   "name": "python3"
  },
  "language_info": {
   "codemirror_mode": {
    "name": "ipython",
    "version": 3
   },
   "file_extension": ".py",
   "mimetype": "text/x-python",
   "name": "python",
   "nbconvert_exporter": "python",
   "pygments_lexer": "ipython3",
   "version": "3.10.11"
  }
 },
 "nbformat": 4,
 "nbformat_minor": 5
}
